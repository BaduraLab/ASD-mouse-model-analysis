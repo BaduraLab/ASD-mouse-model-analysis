{
 "cells": [
  {
   "cell_type": "markdown",
   "id": "c7c1e737",
   "metadata": {},
   "source": [
    "In this notebook, we will extract the necessary datafiles from the model to use in our labs personal analysis notebooks. Firstly, a progress.yaml file needs to be generated. "
   ]
  },
  {
   "cell_type": "code",
   "execution_count": 1,
   "id": "035aa88f",
   "metadata": {},
   "outputs": [
    {
     "name": "stdout",
     "output_type": "stream",
     "text": [
      "Requirement already satisfied: openpyxl in /mnt/Data1/anaconda3/envs/moseq2-app/lib/python3.7/site-packages (3.0.10)\n",
      "Requirement already satisfied: et-xmlfile in /mnt/Data1/anaconda3/envs/moseq2-app/lib/python3.7/site-packages (from openpyxl) (1.1.0)\n",
      "Note: you may need to restart the kernel to use updated packages.\n"
     ]
    }
   ],
   "source": [
    "pip install openpyxl"
   ]
  },
  {
   "cell_type": "code",
   "execution_count": 3,
   "id": "4f770ae7",
   "metadata": {},
   "outputs": [],
   "source": [
    "#important imports\n",
    "from os.path import join, dirname, abspath\n",
    "from moseq2_app.gui.progress import update_progress, restore_progress_vars, progress_path_sanity_check\n",
    "import pandas as pd\n",
    "import openpyxl\n",
    "import pickle\n",
    "import numpy as np\n",
    "from matplotlib import pyplot as plt \n",
    "import array\n",
    "import seaborn as sns\n",
    "import os"
   ]
  },
  {
   "cell_type": "code",
   "execution_count": 4,
   "id": "ee920461",
   "metadata": {},
   "outputs": [
    {
     "name": "stdout",
     "output_type": "stream",
     "text": [
      "Overwriting progress file with initial progress.\n",
      "Generating progress path at: /mnt/Data1/Moseq_Processed/Data4/Analysis/progress.yaml\n",
      "Unable to find PC score file. Either:\n",
      "    1) run the pca step, or if you did\n",
      "    2) manually add PCA paths using the update_progress function\n",
      "Please ensure \"pca_path\" in moseq2-index.yaml is the path to pc_score h5 file before running interactive model analysis\n",
      "Unable to find changepoint file. Either:\n",
      "    1) run the pca step, or if you did\n",
      "    2) manually add PCA paths using the update_progress function\n",
      "Please check and correct the path in config_file. The default path should contain config.yaml\n",
      "File names are not default values, please check if this is intentional\n",
      "====================\n",
      "Please check and correct the path in train_data_dir. The default path should contain aggregate_results\n",
      "File names are not default values, please check if this is intentional\n",
      "====================\n",
      "Please check and correct the path in pca_dirname. The default path should contain _pca\n",
      "File names are not default values, please check if this is intentional\n",
      "====================\n",
      "Please check and correct the path in scores_filename. The default path should contain pca_scores\n",
      "File names are not default values, please check if this is intentional\n",
      "====================\n",
      "Please check and correct the path in scores_path. The default path should contain pca_scores.h5\n",
      "File names are not default values, please check if this is intentional\n",
      "====================\n",
      "Please check and correct the path in changepoints_path. The default path should contain changepoints\n",
      "File names are not default values, please check if this is intentional\n",
      "====================\n"
     ]
    },
    {
     "data": {
      "text/plain": [
       "{'base_dir': '/mnt/Data1/Moseq_Processed/Data4/Analysis',\n",
       " 'config_file': '',\n",
       " 'session_config': '',\n",
       " 'index_file': '/mnt/Data1/Moseq_Processed/Data4/Analysis/moseq2-index.yaml',\n",
       " 'train_data_dir': '',\n",
       " 'pca_dirname': '',\n",
       " 'scores_filename': '',\n",
       " 'scores_path': '',\n",
       " 'changepoints_path': '',\n",
       " 'model_path': '/mnt/Data1/Moseq_Processed/Data4/Analysis/model_output.p',\n",
       " 'crowd_dir': '',\n",
       " 'syll_info': '',\n",
       " 'plot_path': '/mnt/Data1/Moseq_Processed/Data4/Analysis/plots/',\n",
       " 'snapshot': '6a7ca047-afde-42e6-944a-8c38e1477d0a',\n",
       " 'model_session_path': '/mnt/Data1/Moseq_Processed/Data4/Analysis',\n",
       " 'base_model_path': '/mnt/Data1/Moseq_Processed/Data4/Analysis'}"
      ]
     },
     "execution_count": 4,
     "metadata": {},
     "output_type": "execute_result"
    }
   ],
   "source": [
    "#settings window\n",
    "picklename=\"scalar_df3_All.pickle\" # the name of the pickled dataset of scalars used for heatmap generation\n",
    "progress_filepath = '/mnt/Data1/Moseq_Processed/Data4/Analysis/progress.yaml' # Add the path to your progress.yaml here.\n",
    "Parameters=[\"Genotype\",\"Housing\",\"Sex\"] # these are the different parameters we will examine using our indexes\n",
    "indexname='mouse_index_final.xlsx' # how we call our created index \n",
    "from_CLI = True# Keep True\n",
    "progress_paths = restore_progress_vars(progress_file=progress_filepath, init=from_CLI, overwrite=from_CLI)\n",
    "\n",
    "progress_path_sanity_check(progress_paths, progress_filepath)\n",
    "\n",
    "progress_paths"
   ]
  },
  {
   "cell_type": "code",
   "execution_count": 5,
   "id": "5051239f",
   "metadata": {},
   "outputs": [
    {
     "name": "stderr",
     "output_type": "stream",
     "text": [
      "/mnt/Data1/anaconda3/envs/moseq2-app/lib/python3.7/site-packages/sklearn/linear_model/least_angle.py:30: DeprecationWarning: `np.float` is a deprecated alias for the builtin `float`. To silence this warning, use `float` by itself. Doing this will not modify any behavior and is safe. If you specifically wanted the numpy scalar type, use `np.float64` here.\n",
      "Deprecated in NumPy 1.20; for more details and guidance: https://numpy.org/devdocs/release/1.20.0-notes.html#deprecations\n",
      "  method='lar', copy_X=True, eps=np.finfo(np.float).eps,\n",
      "/mnt/Data1/anaconda3/envs/moseq2-app/lib/python3.7/site-packages/sklearn/linear_model/least_angle.py:167: DeprecationWarning: `np.float` is a deprecated alias for the builtin `float`. To silence this warning, use `float` by itself. Doing this will not modify any behavior and is safe. If you specifically wanted the numpy scalar type, use `np.float64` here.\n",
      "Deprecated in NumPy 1.20; for more details and guidance: https://numpy.org/devdocs/release/1.20.0-notes.html#deprecations\n",
      "  method='lar', copy_X=True, eps=np.finfo(np.float).eps,\n",
      "/mnt/Data1/anaconda3/envs/moseq2-app/lib/python3.7/site-packages/sklearn/linear_model/least_angle.py:284: DeprecationWarning: `np.float` is a deprecated alias for the builtin `float`. To silence this warning, use `float` by itself. Doing this will not modify any behavior and is safe. If you specifically wanted the numpy scalar type, use `np.float64` here.\n",
      "Deprecated in NumPy 1.20; for more details and guidance: https://numpy.org/devdocs/release/1.20.0-notes.html#deprecations\n",
      "  eps=np.finfo(np.float).eps, copy_Gram=True, verbose=0,\n",
      "/mnt/Data1/anaconda3/envs/moseq2-app/lib/python3.7/site-packages/sklearn/linear_model/least_angle.py:862: DeprecationWarning: `np.float` is a deprecated alias for the builtin `float`. To silence this warning, use `float` by itself. Doing this will not modify any behavior and is safe. If you specifically wanted the numpy scalar type, use `np.float64` here.\n",
      "Deprecated in NumPy 1.20; for more details and guidance: https://numpy.org/devdocs/release/1.20.0-notes.html#deprecations\n",
      "  eps=np.finfo(np.float).eps, copy_X=True, fit_path=True,\n",
      "/mnt/Data1/anaconda3/envs/moseq2-app/lib/python3.7/site-packages/sklearn/linear_model/least_angle.py:1101: DeprecationWarning: `np.float` is a deprecated alias for the builtin `float`. To silence this warning, use `float` by itself. Doing this will not modify any behavior and is safe. If you specifically wanted the numpy scalar type, use `np.float64` here.\n",
      "Deprecated in NumPy 1.20; for more details and guidance: https://numpy.org/devdocs/release/1.20.0-notes.html#deprecations\n",
      "  eps=np.finfo(np.float).eps, copy_X=True, fit_path=True,\n",
      "/mnt/Data1/anaconda3/envs/moseq2-app/lib/python3.7/site-packages/sklearn/linear_model/least_angle.py:1127: DeprecationWarning: `np.float` is a deprecated alias for the builtin `float`. To silence this warning, use `float` by itself. Doing this will not modify any behavior and is safe. If you specifically wanted the numpy scalar type, use `np.float64` here.\n",
      "Deprecated in NumPy 1.20; for more details and guidance: https://numpy.org/devdocs/release/1.20.0-notes.html#deprecations\n",
      "  eps=np.finfo(np.float).eps, positive=False):\n",
      "/mnt/Data1/anaconda3/envs/moseq2-app/lib/python3.7/site-packages/sklearn/linear_model/least_angle.py:1362: DeprecationWarning: `np.float` is a deprecated alias for the builtin `float`. To silence this warning, use `float` by itself. Doing this will not modify any behavior and is safe. If you specifically wanted the numpy scalar type, use `np.float64` here.\n",
      "Deprecated in NumPy 1.20; for more details and guidance: https://numpy.org/devdocs/release/1.20.0-notes.html#deprecations\n",
      "  max_n_alphas=1000, n_jobs=None, eps=np.finfo(np.float).eps,\n",
      "/mnt/Data1/anaconda3/envs/moseq2-app/lib/python3.7/site-packages/sklearn/linear_model/least_angle.py:1602: DeprecationWarning: `np.float` is a deprecated alias for the builtin `float`. To silence this warning, use `float` by itself. Doing this will not modify any behavior and is safe. If you specifically wanted the numpy scalar type, use `np.float64` here.\n",
      "Deprecated in NumPy 1.20; for more details and guidance: https://numpy.org/devdocs/release/1.20.0-notes.html#deprecations\n",
      "  max_n_alphas=1000, n_jobs=None, eps=np.finfo(np.float).eps,\n",
      "/mnt/Data1/anaconda3/envs/moseq2-app/lib/python3.7/site-packages/sklearn/linear_model/least_angle.py:1738: DeprecationWarning: `np.float` is a deprecated alias for the builtin `float`. To silence this warning, use `float` by itself. Doing this will not modify any behavior and is safe. If you specifically wanted the numpy scalar type, use `np.float64` here.\n",
      "Deprecated in NumPy 1.20; for more details and guidance: https://numpy.org/devdocs/release/1.20.0-notes.html#deprecations\n",
      "  eps=np.finfo(np.float).eps, copy_X=True, positive=False):\n",
      "/mnt/Data1/anaconda3/envs/moseq2-app/lib/python3.7/site-packages/sklearn/decomposition/online_lda.py:29: DeprecationWarning: `np.float` is a deprecated alias for the builtin `float`. To silence this warning, use `float` by itself. Doing this will not modify any behavior and is safe. If you specifically wanted the numpy scalar type, use `np.float64` here.\n",
      "Deprecated in NumPy 1.20; for more details and guidance: https://numpy.org/devdocs/release/1.20.0-notes.html#deprecations\n",
      "  EPS = np.finfo(np.float).eps\n"
     ]
    },
    {
     "name": "stdout",
     "output_type": "stream",
     "text": [
      "Creating model folder for model_output.p\n"
     ]
    }
   ],
   "source": [
    "from moseq2_app.util import setup_model_folders\n",
    "model_dict = setup_model_folders(progress_paths)"
   ]
  },
  {
   "cell_type": "code",
   "execution_count": 6,
   "id": "63fb4dac",
   "metadata": {
    "scrolled": true
   },
   "outputs": [
    {
     "data": {
      "application/vnd.jupyter.widget-view+json": {
       "model_id": "64a9ef87a7ce479db15e5e747a54899f",
       "version_major": 2,
       "version_minor": 0
      },
      "text/plain": [
       "HBox(children=(FloatProgress(value=0.0, description='Creating Scalar DataFrame', max=280.0, style=ProgressStyl…"
      ]
     },
     "metadata": {},
     "output_type": "display_data"
    },
    {
     "name": "stdout",
     "output_type": "stream",
     "text": [
      "\n",
      "scalar_df size:  30013448 rows; 31 columns\n"
     ]
    },
    {
     "data": {
      "text/html": [
       "<div>\n",
       "<style scoped>\n",
       "    .dataframe tbody tr th:only-of-type {\n",
       "        vertical-align: middle;\n",
       "    }\n",
       "\n",
       "    .dataframe tbody tr th {\n",
       "        vertical-align: top;\n",
       "    }\n",
       "\n",
       "    .dataframe thead th {\n",
       "        text-align: right;\n",
       "    }\n",
       "</style>\n",
       "<table border=\"1\" class=\"dataframe\">\n",
       "  <thead>\n",
       "    <tr style=\"text-align: right;\">\n",
       "      <th></th>\n",
       "      <th>angle</th>\n",
       "      <th>area_mm</th>\n",
       "      <th>area_px</th>\n",
       "      <th>centroid_x_mm</th>\n",
       "      <th>centroid_x_px</th>\n",
       "      <th>centroid_y_mm</th>\n",
       "      <th>centroid_y_px</th>\n",
       "      <th>height_ave_mm</th>\n",
       "      <th>length_mm</th>\n",
       "      <th>length_px</th>\n",
       "      <th>...</th>\n",
       "      <th>timestamps</th>\n",
       "      <th>frame index</th>\n",
       "      <th>SessionName</th>\n",
       "      <th>SubjectName</th>\n",
       "      <th>StartTime</th>\n",
       "      <th>labels (original)</th>\n",
       "      <th>labels (usage sort)</th>\n",
       "      <th>labels (frames sort)</th>\n",
       "      <th>onset</th>\n",
       "      <th>syllable index</th>\n",
       "    </tr>\n",
       "  </thead>\n",
       "  <tbody>\n",
       "    <tr>\n",
       "      <th>0</th>\n",
       "      <td>-0.090091</td>\n",
       "      <td>1255.881226</td>\n",
       "      <td>790.0</td>\n",
       "      <td>214.287750</td>\n",
       "      <td>392.564453</td>\n",
       "      <td>207.639435</td>\n",
       "      <td>340.943512</td>\n",
       "      <td>46.400002</td>\n",
       "      <td>81.724716</td>\n",
       "      <td>52.082729</td>\n",
       "      <td>...</td>\n",
       "      <td>8.605751e+08</td>\n",
       "      <td>0.0</td>\n",
       "      <td>01595-02</td>\n",
       "      <td>01595-02</td>\n",
       "      <td>2023-07-05T16:09:54.4276486+02:00</td>\n",
       "      <td>-5</td>\n",
       "      <td>-5</td>\n",
       "      <td>-5</td>\n",
       "      <td>True</td>\n",
       "      <td>0</td>\n",
       "    </tr>\n",
       "    <tr>\n",
       "      <th>1</th>\n",
       "      <td>0.085506</td>\n",
       "      <td>1230.445557</td>\n",
       "      <td>774.0</td>\n",
       "      <td>209.117691</td>\n",
       "      <td>389.269592</td>\n",
       "      <td>202.454300</td>\n",
       "      <td>337.723541</td>\n",
       "      <td>47.927650</td>\n",
       "      <td>76.212578</td>\n",
       "      <td>48.569874</td>\n",
       "      <td>...</td>\n",
       "      <td>8.605752e+08</td>\n",
       "      <td>1.0</td>\n",
       "      <td>01595-02</td>\n",
       "      <td>01595-02</td>\n",
       "      <td>2023-07-05T16:09:54.4276486+02:00</td>\n",
       "      <td>-5</td>\n",
       "      <td>-5</td>\n",
       "      <td>-5</td>\n",
       "      <td>False</td>\n",
       "      <td>1</td>\n",
       "    </tr>\n",
       "    <tr>\n",
       "      <th>2</th>\n",
       "      <td>0.246218</td>\n",
       "      <td>1203.420288</td>\n",
       "      <td>757.0</td>\n",
       "      <td>204.948425</td>\n",
       "      <td>386.612549</td>\n",
       "      <td>198.264465</td>\n",
       "      <td>335.121674</td>\n",
       "      <td>46.163803</td>\n",
       "      <td>72.815025</td>\n",
       "      <td>46.404633</td>\n",
       "      <td>...</td>\n",
       "      <td>8.605752e+08</td>\n",
       "      <td>2.0</td>\n",
       "      <td>01595-02</td>\n",
       "      <td>01595-02</td>\n",
       "      <td>2023-07-05T16:09:54.4276486+02:00</td>\n",
       "      <td>-5</td>\n",
       "      <td>-5</td>\n",
       "      <td>-5</td>\n",
       "      <td>False</td>\n",
       "      <td>2</td>\n",
       "    </tr>\n",
       "    <tr>\n",
       "      <th>3</th>\n",
       "      <td>0.401422</td>\n",
       "      <td>1177.984741</td>\n",
       "      <td>741.0</td>\n",
       "      <td>202.614410</td>\n",
       "      <td>385.125092</td>\n",
       "      <td>194.903656</td>\n",
       "      <td>333.034637</td>\n",
       "      <td>44.819164</td>\n",
       "      <td>70.081207</td>\n",
       "      <td>44.662380</td>\n",
       "      <td>...</td>\n",
       "      <td>8.605752e+08</td>\n",
       "      <td>3.0</td>\n",
       "      <td>01595-02</td>\n",
       "      <td>01595-02</td>\n",
       "      <td>2023-07-05T16:09:54.4276486+02:00</td>\n",
       "      <td>0</td>\n",
       "      <td>82</td>\n",
       "      <td>89</td>\n",
       "      <td>True</td>\n",
       "      <td>3</td>\n",
       "    </tr>\n",
       "    <tr>\n",
       "      <th>4</th>\n",
       "      <td>0.564345</td>\n",
       "      <td>1173.215576</td>\n",
       "      <td>738.0</td>\n",
       "      <td>201.015701</td>\n",
       "      <td>384.106232</td>\n",
       "      <td>191.882141</td>\n",
       "      <td>331.158264</td>\n",
       "      <td>41.971546</td>\n",
       "      <td>70.726448</td>\n",
       "      <td>45.073593</td>\n",
       "      <td>...</td>\n",
       "      <td>8.605753e+08</td>\n",
       "      <td>4.0</td>\n",
       "      <td>01595-02</td>\n",
       "      <td>01595-02</td>\n",
       "      <td>2023-07-05T16:09:54.4276486+02:00</td>\n",
       "      <td>6</td>\n",
       "      <td>52</td>\n",
       "      <td>86</td>\n",
       "      <td>True</td>\n",
       "      <td>4</td>\n",
       "    </tr>\n",
       "  </tbody>\n",
       "</table>\n",
       "<p>5 rows × 31 columns</p>\n",
       "</div>"
      ],
      "text/plain": [
       "      angle      area_mm  area_px  centroid_x_mm  centroid_x_px  \\\n",
       "0 -0.090091  1255.881226    790.0     214.287750     392.564453   \n",
       "1  0.085506  1230.445557    774.0     209.117691     389.269592   \n",
       "2  0.246218  1203.420288    757.0     204.948425     386.612549   \n",
       "3  0.401422  1177.984741    741.0     202.614410     385.125092   \n",
       "4  0.564345  1173.215576    738.0     201.015701     384.106232   \n",
       "\n",
       "   centroid_y_mm  centroid_y_px  height_ave_mm  length_mm  length_px  ...  \\\n",
       "0     207.639435     340.943512      46.400002  81.724716  52.082729  ...   \n",
       "1     202.454300     337.723541      47.927650  76.212578  48.569874  ...   \n",
       "2     198.264465     335.121674      46.163803  72.815025  46.404633  ...   \n",
       "3     194.903656     333.034637      44.819164  70.081207  44.662380  ...   \n",
       "4     191.882141     331.158264      41.971546  70.726448  45.073593  ...   \n",
       "\n",
       "     timestamps  frame index  SessionName  SubjectName  \\\n",
       "0  8.605751e+08          0.0     01595-02     01595-02   \n",
       "1  8.605752e+08          1.0     01595-02     01595-02   \n",
       "2  8.605752e+08          2.0     01595-02     01595-02   \n",
       "3  8.605752e+08          3.0     01595-02     01595-02   \n",
       "4  8.605753e+08          4.0     01595-02     01595-02   \n",
       "\n",
       "                           StartTime  labels (original)  labels (usage sort)  \\\n",
       "0  2023-07-05T16:09:54.4276486+02:00                 -5                   -5   \n",
       "1  2023-07-05T16:09:54.4276486+02:00                 -5                   -5   \n",
       "2  2023-07-05T16:09:54.4276486+02:00                 -5                   -5   \n",
       "3  2023-07-05T16:09:54.4276486+02:00                  0                   82   \n",
       "4  2023-07-05T16:09:54.4276486+02:00                  6                   52   \n",
       "\n",
       "   labels (frames sort)  onset syllable index  \n",
       "0                    -5   True              0  \n",
       "1                    -5  False              1  \n",
       "2                    -5  False              2  \n",
       "3                    89   True              3  \n",
       "4                    86   True              4  \n",
       "\n",
       "[5 rows x 31 columns]"
      ]
     },
     "execution_count": 6,
     "metadata": {},
     "output_type": "execute_result"
    }
   ],
   "source": [
    "from moseq2_viz.util import parse_index\n",
    "from moseq2_viz.scalars.util import scalars_to_dataframe\n",
    "\n",
    "_, sorted_index = parse_index(progress_paths['index_file'])\n",
    "# compute session scalar data\n",
    "scalar_df = scalars_to_dataframe(sorted_index, model_path=progress_paths['model_path'])\n",
    "\n",
    "print('scalar_df size: ', scalar_df.shape[0], 'rows;', scalar_df.shape[1], 'columns')\n",
    "\n",
    "# this line prints out the first 5 rows of the dataframe in table format. It is used to\n",
    "# get a sense of what is contained in the DataFrame\n",
    "scalar_df.head()"
   ]
  },
  {
   "cell_type": "code",
   "execution_count": 7,
   "id": "da9f0899",
   "metadata": {},
   "outputs": [
    {
     "name": "stdout",
     "output_type": "stream",
     "text": [
      "DataFrame is saved: /mnt/Data1/Moseq_Processed/Data4/Analysis/scalar_df3_All.pickle\n"
     ]
    }
   ],
   "source": [
    "# Save `scalar_df` as a csv file\n",
    "from os.path import exists, join\n",
    "\n",
    "# Specify the place you want to save the dataframe in `save_path`\n",
    "save_path = progress_paths['base_dir']  # save the dataframe in the base data directory\n",
    "# alternatively, you can save the dataframe in the model directory. Uncomment the following line to do so:\n",
    "#ave_path = progress_paths['model_path']\n",
    "\n",
    "# exports the dataframe\n",
    "filename = picklename\n",
    "# here we use .to_csv to export the dataframe, but you can change it to try other ways of saving your data\n",
    "scalar_df.to_pickle(join(save_path, filename))\n",
    "\n",
    "print('DataFrame is saved:', join(save_path, filename))"
   ]
  },
  {
   "cell_type": "code",
   "execution_count": 8,
   "id": "17d10d14",
   "metadata": {},
   "outputs": [
    {
     "name": "stdout",
     "output_type": "stream",
     "text": [
      "index is saved: /mnt/Data1/Moseq_Processed/Data4/Analysis/mouse_index_final.xlsx\n"
     ]
    }
   ],
   "source": [
    "data_pickle=open(join(save_path, filename),\"rb\")\n",
    "data_contents=scalar_df\n",
    "alluuids=data_contents[\"uuid\"]\n",
    "uuids,dataindex=np.unique(alluuids,return_index=True) #sort the mouse based on their original grouping (probably genotype)\n",
    "groups=data_contents[\"group\"][dataindex]\n",
    "mouse=data_contents[\"SubjectName\"][dataindex]\n",
    "mouse=np.array(mouse)\n",
    "mouse = mouse[np.argsort(groups)]\n",
    "uuids=uuids[np.argsort(groups)]\n",
    "\n",
    "Mousedict = {\"uuid\": uuids,'MouseNumber': mouse, 'Genotype': sorted(groups) } #create a dataframe to insert all of the groupings, original grouping is called Genotype from the start, but could be something else, in that case the name can be easily altered in the excel file\n",
    "mouseframe = pd.DataFrame(Mousedict)\n",
    "doubles=(set(Parameters)&set([\"MouseNumber\",\"Genotype\"])) \n",
    "structure=Parameters.copy()\n",
    "for i in doubles:\n",
    "    structure.remove(i)\n",
    "mouseframe = mouseframe.reindex(columns = mouseframe.columns.tolist() + structure)\n",
    "if not(os.path.exists(join(save_path, indexname))):\n",
    "    mouseframe.to_excel(join(save_path, indexname), index=False) #create in excel file to fill in the missing sorting data\n",
    "    print('index is saved:', join(save_path, indexname))\n",
    "else:\n",
    "    print(\"Warning:filepath already exists, be careful to not overwrite files!\")"
   ]
  },
  {
   "cell_type": "markdown",
   "id": "0fbafdd3",
   "metadata": {},
   "source": [
    "An empty mouse index file is now generated. Fill this file by hand using the mouse registry. depending on the situation it may be possible to crossreference this excel file using the mouse checker made by Max. "
   ]
  },
  {
   "cell_type": "markdown",
   "id": "9d649807",
   "metadata": {},
   "source": [
    "After this file is filled in we can load it in this notebook to gather specific transition matrices, here we can also note in what way we want to group the matrices (order is not important) in case you want to, for example look ony at the difference between genotype. Fill in, in the below cell what parameters need to be included in grouping (for example, TParam=['Genotype','Housing'] if we want to ignore sex but look at genotype and housing"
   ]
  },
  {
   "cell_type": "code",
   "execution_count": 9,
   "id": "359d84cd",
   "metadata": {},
   "outputs": [],
   "source": [
    "TParam=[\"Genotype\",\"Housing\",\"Sex\"]\n",
    "#aside from the params, it's important to fill in which index file to load in case something changed\n",
    "Loadfile='/mnt/Data1/Moseq_Processed/Data4/Analysis/mouse_index_final.xlsx' #path to the index file"
   ]
  },
  {
   "cell_type": "code",
   "execution_count": 11,
   "id": "df35919b",
   "metadata": {
    "scrolled": true
   },
   "outputs": [],
   "source": [
    "df = pd.read_excel (Loadfile,engine='openpyxl')\n",
    "df=df.dropna() #remove columns which contains NaN (so missing certain labels)\n",
    "stringlist=df[TParam[0]].to_numpy(copy=True) #creating a proper index for the variables and sorting them\n",
    "for i in range(len(TParam)-1):\n",
    "   stringlist+=\"-\"+df[TParam[i+1]].to_numpy(copy=True)\n",
    "Number=df['MouseNumber'][:-1]\n",
    "for i in range(len(Number)):\n",
    "    scalar_df.loc[scalar_df.SubjectName==Number[i],'group']=stringlist[i]"
   ]
  },
  {
   "cell_type": "code",
   "execution_count": 12,
   "id": "36e5ff92",
   "metadata": {},
   "outputs": [
    {
     "name": "stdout",
     "output_type": "stream",
     "text": [
      "The shape of mean_df (28000, 26)\n"
     ]
    },
    {
     "data": {
      "text/html": [
       "<div>\n",
       "<style scoped>\n",
       "    .dataframe tbody tr th:only-of-type {\n",
       "        vertical-align: middle;\n",
       "    }\n",
       "\n",
       "    .dataframe tbody tr th {\n",
       "        vertical-align: top;\n",
       "    }\n",
       "\n",
       "    .dataframe thead th {\n",
       "        text-align: right;\n",
       "    }\n",
       "</style>\n",
       "<table border=\"1\" class=\"dataframe\">\n",
       "  <thead>\n",
       "    <tr style=\"text-align: right;\">\n",
       "      <th></th>\n",
       "      <th>group</th>\n",
       "      <th>uuid</th>\n",
       "      <th>syllable</th>\n",
       "      <th>usage</th>\n",
       "      <th>duration</th>\n",
       "      <th>angle</th>\n",
       "      <th>area_mm</th>\n",
       "      <th>area_px</th>\n",
       "      <th>centroid_x_mm</th>\n",
       "      <th>centroid_x_px</th>\n",
       "      <th>...</th>\n",
       "      <th>velocity_2d_px</th>\n",
       "      <th>velocity_3d_mm</th>\n",
       "      <th>velocity_3d_px</th>\n",
       "      <th>velocity_theta</th>\n",
       "      <th>width_mm</th>\n",
       "      <th>width_px</th>\n",
       "      <th>dist_to_center_px</th>\n",
       "      <th>timestamps</th>\n",
       "      <th>frame index</th>\n",
       "      <th>syllable key</th>\n",
       "    </tr>\n",
       "  </thead>\n",
       "  <tbody>\n",
       "    <tr>\n",
       "      <th>0</th>\n",
       "      <td>Shank2 Mut-EE-f</td>\n",
       "      <td>186ad57e-4fe3-4400-8f7c-b38d79214870</td>\n",
       "      <td>0</td>\n",
       "      <td>0.012603</td>\n",
       "      <td>0.071967</td>\n",
       "      <td>2.717470</td>\n",
       "      <td>553.322571</td>\n",
       "      <td>348.596893</td>\n",
       "      <td>15.235649</td>\n",
       "      <td>265.724518</td>\n",
       "      <td>...</td>\n",
       "      <td>0.217186</td>\n",
       "      <td>0.734131</td>\n",
       "      <td>0.658522</td>\n",
       "      <td>0.023151</td>\n",
       "      <td>24.792755</td>\n",
       "      <td>15.419882</td>\n",
       "      <td>128.345123</td>\n",
       "      <td>9.615746e+08</td>\n",
       "      <td>62282.986434</td>\n",
       "      <td>labels (usage sort)</td>\n",
       "    </tr>\n",
       "    <tr>\n",
       "      <th>1</th>\n",
       "      <td>Shank2 Mut-EE-f</td>\n",
       "      <td>2b95576b-1d3f-4e58-b017-be753546bb5b</td>\n",
       "      <td>0</td>\n",
       "      <td>0.018004</td>\n",
       "      <td>0.073112</td>\n",
       "      <td>2.421055</td>\n",
       "      <td>498.171936</td>\n",
       "      <td>313.370270</td>\n",
       "      <td>81.454735</td>\n",
       "      <td>307.910675</td>\n",
       "      <td>...</td>\n",
       "      <td>0.238684</td>\n",
       "      <td>0.795030</td>\n",
       "      <td>0.704740</td>\n",
       "      <td>0.026243</td>\n",
       "      <td>23.506027</td>\n",
       "      <td>14.597178</td>\n",
       "      <td>154.115295</td>\n",
       "      <td>1.220393e+09</td>\n",
       "      <td>56332.280856</td>\n",
       "      <td>labels (usage sort)</td>\n",
       "    </tr>\n",
       "    <tr>\n",
       "      <th>2</th>\n",
       "      <td>Shank2 Mut-EE-f</td>\n",
       "      <td>74daf488-6a78-4e77-9b2f-5e4508fd5b40</td>\n",
       "      <td>0</td>\n",
       "      <td>0.017133</td>\n",
       "      <td>0.077170</td>\n",
       "      <td>-1.127025</td>\n",
       "      <td>529.965088</td>\n",
       "      <td>333.369446</td>\n",
       "      <td>-43.663986</td>\n",
       "      <td>228.173172</td>\n",
       "      <td>...</td>\n",
       "      <td>0.206146</td>\n",
       "      <td>0.706940</td>\n",
       "      <td>0.634763</td>\n",
       "      <td>-0.066734</td>\n",
       "      <td>23.999729</td>\n",
       "      <td>14.903765</td>\n",
       "      <td>142.076477</td>\n",
       "      <td>6.032322e+09</td>\n",
       "      <td>40152.984722</td>\n",
       "      <td>labels (usage sort)</td>\n",
       "    </tr>\n",
       "    <tr>\n",
       "      <th>3</th>\n",
       "      <td>Shank2 Mut-EE-f</td>\n",
       "      <td>aa847a1e-a8a8-4a08-a223-9012f79f96c2</td>\n",
       "      <td>0</td>\n",
       "      <td>0.114241</td>\n",
       "      <td>0.075215</td>\n",
       "      <td>0.326685</td>\n",
       "      <td>584.815918</td>\n",
       "      <td>367.872833</td>\n",
       "      <td>-128.247589</td>\n",
       "      <td>174.268494</td>\n",
       "      <td>...</td>\n",
       "      <td>0.205424</td>\n",
       "      <td>0.691868</td>\n",
       "      <td>0.618781</td>\n",
       "      <td>-0.038779</td>\n",
       "      <td>28.716238</td>\n",
       "      <td>17.832703</td>\n",
       "      <td>170.183762</td>\n",
       "      <td>6.644483e+08</td>\n",
       "      <td>80503.964263</td>\n",
       "      <td>labels (usage sort)</td>\n",
       "    </tr>\n",
       "    <tr>\n",
       "      <th>4</th>\n",
       "      <td>Shank2 Mut-EE-f</td>\n",
       "      <td>aaa60a8e-7265-48a4-be30-76a1a3c21290</td>\n",
       "      <td>0</td>\n",
       "      <td>0.023837</td>\n",
       "      <td>0.087288</td>\n",
       "      <td>2.149405</td>\n",
       "      <td>663.144714</td>\n",
       "      <td>417.144836</td>\n",
       "      <td>34.756084</td>\n",
       "      <td>278.149872</td>\n",
       "      <td>...</td>\n",
       "      <td>0.177586</td>\n",
       "      <td>0.643350</td>\n",
       "      <td>0.584777</td>\n",
       "      <td>-0.009378</td>\n",
       "      <td>29.851974</td>\n",
       "      <td>18.537992</td>\n",
       "      <td>140.444778</td>\n",
       "      <td>2.540462e+09</td>\n",
       "      <td>11562.415049</td>\n",
       "      <td>labels (usage sort)</td>\n",
       "    </tr>\n",
       "  </tbody>\n",
       "</table>\n",
       "<p>5 rows × 26 columns</p>\n",
       "</div>"
      ],
      "text/plain": [
       "             group                                  uuid  syllable     usage  \\\n",
       "0  Shank2 Mut-EE-f  186ad57e-4fe3-4400-8f7c-b38d79214870         0  0.012603   \n",
       "1  Shank2 Mut-EE-f  2b95576b-1d3f-4e58-b017-be753546bb5b         0  0.018004   \n",
       "2  Shank2 Mut-EE-f  74daf488-6a78-4e77-9b2f-5e4508fd5b40         0  0.017133   \n",
       "3  Shank2 Mut-EE-f  aa847a1e-a8a8-4a08-a223-9012f79f96c2         0  0.114241   \n",
       "4  Shank2 Mut-EE-f  aaa60a8e-7265-48a4-be30-76a1a3c21290         0  0.023837   \n",
       "\n",
       "   duration     angle     area_mm     area_px  centroid_x_mm  centroid_x_px  \\\n",
       "0  0.071967  2.717470  553.322571  348.596893      15.235649     265.724518   \n",
       "1  0.073112  2.421055  498.171936  313.370270      81.454735     307.910675   \n",
       "2  0.077170 -1.127025  529.965088  333.369446     -43.663986     228.173172   \n",
       "3  0.075215  0.326685  584.815918  367.872833    -128.247589     174.268494   \n",
       "4  0.087288  2.149405  663.144714  417.144836      34.756084     278.149872   \n",
       "\n",
       "   ...  velocity_2d_px  velocity_3d_mm  velocity_3d_px  velocity_theta  \\\n",
       "0  ...        0.217186        0.734131        0.658522        0.023151   \n",
       "1  ...        0.238684        0.795030        0.704740        0.026243   \n",
       "2  ...        0.206146        0.706940        0.634763       -0.066734   \n",
       "3  ...        0.205424        0.691868        0.618781       -0.038779   \n",
       "4  ...        0.177586        0.643350        0.584777       -0.009378   \n",
       "\n",
       "    width_mm   width_px  dist_to_center_px    timestamps   frame index  \\\n",
       "0  24.792755  15.419882         128.345123  9.615746e+08  62282.986434   \n",
       "1  23.506027  14.597178         154.115295  1.220393e+09  56332.280856   \n",
       "2  23.999729  14.903765         142.076477  6.032322e+09  40152.984722   \n",
       "3  28.716238  17.832703         170.183762  6.644483e+08  80503.964263   \n",
       "4  29.851974  18.537992         140.444778  2.540462e+09  11562.415049   \n",
       "\n",
       "          syllable key  \n",
       "0  labels (usage sort)  \n",
       "1  labels (usage sort)  \n",
       "2  labels (usage sort)  \n",
       "3  labels (usage sort)  \n",
       "4  labels (usage sort)  \n",
       "\n",
       "[5 rows x 26 columns]"
      ]
     },
     "execution_count": 12,
     "metadata": {},
     "output_type": "execute_result"
    }
   ],
   "source": [
    "# compute syllable usage and scalar statistics\n",
    "from moseq2_viz.model.util import compute_behavioral_statistics\n",
    "\n",
    "count = 'usage'  # can either be usage or frames\n",
    "syllable_key = 'labels (usage sort)'  # either 'labels (usage sort)', 'labels', or 'labels (frames sort)'\n",
    "groupby = ['group', 'uuid']  # can be any categorical variables\n",
    "usage_normalization = True  # turn syllable usage into a probability distribution from raw counts\n",
    "\n",
    "mean_df = compute_behavioral_statistics(scalar_df, count=count, groupby=groupby, usage_normalization=usage_normalization, syllable_key=syllable_key)\n",
    "print('The shape of mean_df', mean_df.shape)\n",
    "mean_df.head()"
   ]
  },
  {
   "cell_type": "code",
   "execution_count": 13,
   "id": "1f319a6d",
   "metadata": {},
   "outputs": [
    {
     "name": "stdout",
     "output_type": "stream",
     "text": [
      "Group(s): Shank2 Wt-std-m, Shank2 Mut-std-m, Shank2 Mut-std-f, Shank2 Wt-std-f, TSC1 Mut-EE-f, TSC1 L7 Plus-std-f, TSC1 L7 Plus-std-m, TSC1 Wt-std-m, TSC1 Wt-EE-f, TSC1 L7 Min-std-f, TSC1 L7 Min-std-m, TSC1 Wt-std-f, TSC1 Mut, TSC1 L7 Plus-EE-f, TSC1 Wt-EE-m, Shank2 Mut-EE-f, Shank2 Wt-EE-m, TSC1 Mut-std-m, TSC1 L7 Min-EE-m, Shank2 Wt-EE-f, Shank2 Mut-EE-m, TSC1 L7 Plus-EE-m, TSC1 Mut-EE-m, TSC1 Mut-std-f, TSC1 Wt, TSC1 L7 Min-EE-f\n"
     ]
    },
    {
     "data": {
      "application/vnd.jupyter.widget-view+json": {
       "model_id": "d731a007480441888c27930b35bd9149",
       "version_major": 2,
       "version_minor": 0
      },
      "text/plain": [
       "HBox(children=(FloatProgress(value=0.0, description='Computing bigram transition probabilities', max=14.0, sty…"
      ]
     },
     "metadata": {},
     "output_type": "display_data"
    },
    {
     "name": "stdout",
     "output_type": "stream",
     "text": [
      "\n"
     ]
    },
    {
     "data": {
      "application/vnd.jupyter.widget-view+json": {
       "model_id": "c6c27f7ebcc34b0aa6dc9d06d0254f6b",
       "version_major": 2,
       "version_minor": 0
      },
      "text/plain": [
       "HBox(children=(FloatProgress(value=0.0, description='Computing bigram transition probabilities', max=12.0, sty…"
      ]
     },
     "metadata": {},
     "output_type": "display_data"
    },
    {
     "name": "stdout",
     "output_type": "stream",
     "text": [
      "\n"
     ]
    },
    {
     "data": {
      "application/vnd.jupyter.widget-view+json": {
       "model_id": "9cb7eb44ac3845de81bdce32ad2fde3e",
       "version_major": 2,
       "version_minor": 0
      },
      "text/plain": [
       "HBox(children=(FloatProgress(value=0.0, description='Computing bigram transition probabilities', max=14.0, sty…"
      ]
     },
     "metadata": {},
     "output_type": "display_data"
    },
    {
     "name": "stdout",
     "output_type": "stream",
     "text": [
      "\n"
     ]
    },
    {
     "data": {
      "application/vnd.jupyter.widget-view+json": {
       "model_id": "1f9594c1b9e94e1385ae3853bb868d5c",
       "version_major": 2,
       "version_minor": 0
      },
      "text/plain": [
       "HBox(children=(FloatProgress(value=0.0, description='Computing bigram transition probabilities', max=15.0, sty…"
      ]
     },
     "metadata": {},
     "output_type": "display_data"
    },
    {
     "name": "stdout",
     "output_type": "stream",
     "text": [
      "\n"
     ]
    },
    {
     "data": {
      "application/vnd.jupyter.widget-view+json": {
       "model_id": "fe1c3e713182423cb8971d121cd17623",
       "version_major": 2,
       "version_minor": 0
      },
      "text/plain": [
       "HBox(children=(FloatProgress(value=0.0, description='Computing bigram transition probabilities', max=13.0, sty…"
      ]
     },
     "metadata": {},
     "output_type": "display_data"
    },
    {
     "name": "stdout",
     "output_type": "stream",
     "text": [
      "\n"
     ]
    },
    {
     "data": {
      "application/vnd.jupyter.widget-view+json": {
       "model_id": "3df9f7cfb7664757b91d51b26fdf5bbe",
       "version_major": 2,
       "version_minor": 0
      },
      "text/plain": [
       "HBox(children=(FloatProgress(value=0.0, description='Computing bigram transition probabilities', max=12.0, sty…"
      ]
     },
     "metadata": {},
     "output_type": "display_data"
    },
    {
     "name": "stdout",
     "output_type": "stream",
     "text": [
      "\n"
     ]
    },
    {
     "data": {
      "application/vnd.jupyter.widget-view+json": {
       "model_id": "3e6828983dbf40f783ad22b03649675d",
       "version_major": 2,
       "version_minor": 0
      },
      "text/plain": [
       "HBox(children=(FloatProgress(value=0.0, description='Computing bigram transition probabilities', max=14.0, sty…"
      ]
     },
     "metadata": {},
     "output_type": "display_data"
    },
    {
     "name": "stdout",
     "output_type": "stream",
     "text": [
      "\n"
     ]
    },
    {
     "data": {
      "application/vnd.jupyter.widget-view+json": {
       "model_id": "762193ed38f940e29bb9bb1028b0de38",
       "version_major": 2,
       "version_minor": 0
      },
      "text/plain": [
       "HBox(children=(FloatProgress(value=0.0, description='Computing bigram transition probabilities', max=11.0, sty…"
      ]
     },
     "metadata": {},
     "output_type": "display_data"
    },
    {
     "name": "stdout",
     "output_type": "stream",
     "text": [
      "\n"
     ]
    },
    {
     "data": {
      "application/vnd.jupyter.widget-view+json": {
       "model_id": "564e3cf7cba94037af07a5555c34dbd7",
       "version_major": 2,
       "version_minor": 0
      },
      "text/plain": [
       "HBox(children=(FloatProgress(value=0.0, description='Computing bigram transition probabilities', max=12.0, sty…"
      ]
     },
     "metadata": {},
     "output_type": "display_data"
    },
    {
     "name": "stdout",
     "output_type": "stream",
     "text": [
      "\n"
     ]
    },
    {
     "data": {
      "application/vnd.jupyter.widget-view+json": {
       "model_id": "97895373747840d080b3fc96bc48acdc",
       "version_major": 2,
       "version_minor": 0
      },
      "text/plain": [
       "HBox(children=(FloatProgress(value=0.0, description='Computing bigram transition probabilities', max=9.0, styl…"
      ]
     },
     "metadata": {},
     "output_type": "display_data"
    },
    {
     "name": "stdout",
     "output_type": "stream",
     "text": [
      "\n"
     ]
    },
    {
     "data": {
      "application/vnd.jupyter.widget-view+json": {
       "model_id": "8fc0b9090add4710981b1baf38296f89",
       "version_major": 2,
       "version_minor": 0
      },
      "text/plain": [
       "HBox(children=(FloatProgress(value=0.0, description='Computing bigram transition probabilities', max=11.0, sty…"
      ]
     },
     "metadata": {},
     "output_type": "display_data"
    },
    {
     "name": "stdout",
     "output_type": "stream",
     "text": [
      "\n"
     ]
    },
    {
     "data": {
      "application/vnd.jupyter.widget-view+json": {
       "model_id": "4047a4f3a83c41d6a1c306d1cbdae4ca",
       "version_major": 2,
       "version_minor": 0
      },
      "text/plain": [
       "HBox(children=(FloatProgress(value=0.0, description='Computing bigram transition probabilities', max=13.0, sty…"
      ]
     },
     "metadata": {},
     "output_type": "display_data"
    },
    {
     "name": "stdout",
     "output_type": "stream",
     "text": [
      "\n"
     ]
    },
    {
     "data": {
      "application/vnd.jupyter.widget-view+json": {
       "model_id": "ea3532c9eae24095898a02c5e2697e0c",
       "version_major": 2,
       "version_minor": 0
      },
      "text/plain": [
       "HBox(children=(FloatProgress(value=0.0, description='Computing bigram transition probabilities', max=1.0, styl…"
      ]
     },
     "metadata": {},
     "output_type": "display_data"
    },
    {
     "name": "stdout",
     "output_type": "stream",
     "text": [
      "\n"
     ]
    },
    {
     "data": {
      "application/vnd.jupyter.widget-view+json": {
       "model_id": "0cffdee170b045e6aa3f1818d30a6418",
       "version_major": 2,
       "version_minor": 0
      },
      "text/plain": [
       "HBox(children=(FloatProgress(value=0.0, description='Computing bigram transition probabilities', max=13.0, sty…"
      ]
     },
     "metadata": {},
     "output_type": "display_data"
    },
    {
     "name": "stdout",
     "output_type": "stream",
     "text": [
      "\n"
     ]
    },
    {
     "data": {
      "application/vnd.jupyter.widget-view+json": {
       "model_id": "87e9bbe560254e5c8a94aa61641c9feb",
       "version_major": 2,
       "version_minor": 0
      },
      "text/plain": [
       "HBox(children=(FloatProgress(value=0.0, description='Computing bigram transition probabilities', max=11.0, sty…"
      ]
     },
     "metadata": {},
     "output_type": "display_data"
    },
    {
     "name": "stdout",
     "output_type": "stream",
     "text": [
      "\n"
     ]
    },
    {
     "data": {
      "application/vnd.jupyter.widget-view+json": {
       "model_id": "e2179f8294824b56a1a38acc6903e50c",
       "version_major": 2,
       "version_minor": 0
      },
      "text/plain": [
       "HBox(children=(FloatProgress(value=0.0, description='Computing bigram transition probabilities', max=10.0, sty…"
      ]
     },
     "metadata": {},
     "output_type": "display_data"
    },
    {
     "name": "stdout",
     "output_type": "stream",
     "text": [
      "\n"
     ]
    },
    {
     "data": {
      "application/vnd.jupyter.widget-view+json": {
       "model_id": "e26bdac0cc3e437baf3f61057f72242d",
       "version_major": 2,
       "version_minor": 0
      },
      "text/plain": [
       "HBox(children=(FloatProgress(value=0.0, description='Computing bigram transition probabilities', max=11.0, sty…"
      ]
     },
     "metadata": {},
     "output_type": "display_data"
    },
    {
     "name": "stdout",
     "output_type": "stream",
     "text": [
      "\n"
     ]
    },
    {
     "data": {
      "application/vnd.jupyter.widget-view+json": {
       "model_id": "e3a0ef48dc4e438995080d1a10a07055",
       "version_major": 2,
       "version_minor": 0
      },
      "text/plain": [
       "HBox(children=(FloatProgress(value=0.0, description='Computing bigram transition probabilities', max=18.0, sty…"
      ]
     },
     "metadata": {},
     "output_type": "display_data"
    },
    {
     "name": "stdout",
     "output_type": "stream",
     "text": [
      "\n"
     ]
    },
    {
     "data": {
      "application/vnd.jupyter.widget-view+json": {
       "model_id": "739415d9513d48b59ec7a691b16eb69c",
       "version_major": 2,
       "version_minor": 0
      },
      "text/plain": [
       "HBox(children=(FloatProgress(value=0.0, description='Computing bigram transition probabilities', max=7.0, styl…"
      ]
     },
     "metadata": {},
     "output_type": "display_data"
    },
    {
     "name": "stdout",
     "output_type": "stream",
     "text": [
      "\n"
     ]
    },
    {
     "data": {
      "application/vnd.jupyter.widget-view+json": {
       "model_id": "d4f144ea75a54187a814991e51f807d2",
       "version_major": 2,
       "version_minor": 0
      },
      "text/plain": [
       "HBox(children=(FloatProgress(value=0.0, description='Computing bigram transition probabilities', max=10.0, sty…"
      ]
     },
     "metadata": {},
     "output_type": "display_data"
    },
    {
     "name": "stdout",
     "output_type": "stream",
     "text": [
      "\n"
     ]
    },
    {
     "data": {
      "application/vnd.jupyter.widget-view+json": {
       "model_id": "b2da8e7bc4774f8e864a79d348565983",
       "version_major": 2,
       "version_minor": 0
      },
      "text/plain": [
       "HBox(children=(FloatProgress(value=0.0, description='Computing bigram transition probabilities', max=17.0, sty…"
      ]
     },
     "metadata": {},
     "output_type": "display_data"
    },
    {
     "name": "stdout",
     "output_type": "stream",
     "text": [
      "\n"
     ]
    },
    {
     "data": {
      "application/vnd.jupyter.widget-view+json": {
       "model_id": "2b3c69b6bb054c68a8d8014601640ef6",
       "version_major": 2,
       "version_minor": 0
      },
      "text/plain": [
       "HBox(children=(FloatProgress(value=0.0, description='Computing bigram transition probabilities', max=6.0, styl…"
      ]
     },
     "metadata": {},
     "output_type": "display_data"
    },
    {
     "name": "stdout",
     "output_type": "stream",
     "text": [
      "\n"
     ]
    },
    {
     "data": {
      "application/vnd.jupyter.widget-view+json": {
       "model_id": "0a874f59de294be2858b1baa166258d3",
       "version_major": 2,
       "version_minor": 0
      },
      "text/plain": [
       "HBox(children=(FloatProgress(value=0.0, description='Computing bigram transition probabilities', max=9.0, styl…"
      ]
     },
     "metadata": {},
     "output_type": "display_data"
    },
    {
     "name": "stdout",
     "output_type": "stream",
     "text": [
      "\n"
     ]
    },
    {
     "data": {
      "application/vnd.jupyter.widget-view+json": {
       "model_id": "1c434ed73d514a1589dde75a654883cc",
       "version_major": 2,
       "version_minor": 0
      },
      "text/plain": [
       "HBox(children=(FloatProgress(value=0.0, description='Computing bigram transition probabilities', max=10.0, sty…"
      ]
     },
     "metadata": {},
     "output_type": "display_data"
    },
    {
     "name": "stdout",
     "output_type": "stream",
     "text": [
      "\n"
     ]
    },
    {
     "data": {
      "application/vnd.jupyter.widget-view+json": {
       "model_id": "a44562d5566540abac9aa31180edc41c",
       "version_major": 2,
       "version_minor": 0
      },
      "text/plain": [
       "HBox(children=(FloatProgress(value=0.0, description='Computing bigram transition probabilities', max=1.0, styl…"
      ]
     },
     "metadata": {},
     "output_type": "display_data"
    },
    {
     "name": "stdout",
     "output_type": "stream",
     "text": [
      "\n"
     ]
    },
    {
     "data": {
      "application/vnd.jupyter.widget-view+json": {
       "model_id": "163821bd67384cf08a9ffe5c5be65144",
       "version_major": 2,
       "version_minor": 0
      },
      "text/plain": [
       "HBox(children=(FloatProgress(value=0.0, description='Computing bigram transition probabilities', max=6.0, styl…"
      ]
     },
     "metadata": {},
     "output_type": "display_data"
    },
    {
     "name": "stdout",
     "output_type": "stream",
     "text": [
      "\n"
     ]
    },
    {
     "data": {
      "image/png": "[encoded data removed]",
      "text/plain": [
       "<Figure size 864x576 with 52 Axes>"
      ]
     },
     "metadata": {
      "needs_background": "light"
     },
     "output_type": "display_data"
    }
   ],
   "source": [
    "import os\n",
    "import matplotlib.pyplot as plt\n",
    "from moseq2_viz.model.util import parse_model_results, relabel_by_usage\n",
    "from moseq2_viz.model.trans_graph import get_trans_graph_groups, get_group_trans_mats\n",
    "\n",
    "# syllable threshold defined above. Uncomment if you want to manually set\n",
    "max_syllables = 40\n",
    "\n",
    "# select a transition matrix normalization method\n",
    "normalize = 'bigram' # options: bigram, columns, rows\n",
    "\n",
    "# load your model\n",
    "model_path = progress_paths['model_path']\n",
    "model_data = parse_model_results(model_path)\n",
    "model_data['labels'] = relabel_by_usage(model_data['labels'], count='usage')[0]\n",
    "\n",
    "# Get modeled session uuids to compute group-mean transition graph for each group\n",
    "label_group, uuids = get_trans_graph_groups(model_data)\n",
    "##########\n",
    "uuidsgroups,indexgroups=np.unique(mean_df['uuid'],return_index=True)\n",
    "for i in range(len(uuidsgroups)):\n",
    "    label_group[uuids.index(uuidsgroups[i])]=mean_df['group'][indexgroups[i]]\n",
    "#########\n",
    "group = list(set(label_group))\n",
    "# compute transition matrices and usages for each group\n",
    "print('Group(s):', ', '.join(group))\n",
    "trans_mats, usages = get_group_trans_mats(model_data['labels'], label_group, group, max_syllables, normalize=normalize)\n",
    "\n",
    "fig, ax = plt.subplots(1, len(group), figsize=(12, 8), sharex=False, sharey=True)\n",
    "title_map = dict(bigram='Bigram', columns='Incoming', rows='Outgoing')\n",
    "\n",
    "# max color threshold for graphs - set to any value \n",
    "color_lim = max([x.max() for x in trans_mats])\n",
    "\n",
    "for i, g in enumerate(group):\n",
    "    h = ax[i].imshow(trans_mats[i][:max_syllables,:max_syllables], cmap='cubehelix', vmax=color_lim)\n",
    "    if i == 0:\n",
    "        ax[i].set_ylabel('Incoming syllable')\n",
    "    cb = fig.colorbar(h, ax=ax[i], fraction=0.046, pad=0.04)\n",
    "    cb.set_label(f'{title_map[normalize]} transition probability')\n",
    "    ax[i].set_xlabel('Outgoing syllable')\n",
    "    ax[i].set_title(g)\n",
    "\n",
    "# save transition matrix figure\n",
    "os.makedirs(progress_paths['plot_path'], exist_ok=True)\n",
    "for ext in ('pdf', 'png'):\n",
    "    fig.savefig(join(progress_paths['plot_path'], f'{normalize}_tansition_matrix.{ext}'))"
   ]
  },
  {
   "cell_type": "code",
   "execution_count": 14,
   "id": "4fd80e69",
   "metadata": {},
   "outputs": [],
   "source": [
    "import numpy as np\n",
    "from os.path import join\n",
    "\n",
    "save_path = progress_paths['model_session_path']\n",
    "\n",
    "for group_name, tm, usage in zip(group, trans_mats, usages):\n",
    "    out = join(save_path, f'{group_name}_{normalize}_transition_matrix.csv')\n",
    "    np.savetxt(out, tm, delimiter=',')  # save TM as csv file\n",
    "    out = join(save_path, f'{group_name}_syllable_counts.csv')\n",
    "    np.savetxt(out, np.array(list(usage.items())), delimiter=',', header='syllable id,counts')  # save usage mapping as csv"
   ]
  },
  {
   "cell_type": "code",
   "execution_count": null,
   "id": "ae1a6010",
   "metadata": {},
   "outputs": [],
   "source": []
  },
  {
   "cell_type": "code",
   "execution_count": null,
   "id": "92cef126",
   "metadata": {},
   "outputs": [],
   "source": []
  },
  {
   "cell_type": "code",
   "execution_count": null,
   "id": "e69542c4",
   "metadata": {},
   "outputs": [],
   "source": []
  }
 ],
 "metadata": {
  "kernelspec": {
   "display_name": "Python 3",
   "language": "python",
   "name": "python3"
  },
  "language_info": {
   "codemirror_mode": {
    "name": "ipython",
    "version": 3
   },
   "file_extension": ".py",
   "mimetype": "text/x-python",
   "name": "python",
   "nbconvert_exporter": "python",
   "pygments_lexer": "ipython3",
   "version": "3.7.12"
  }
 },
 "nbformat": 4,
 "nbformat_minor": 5
}
