{
 "cells": [
  {
   "cell_type": "markdown",
   "id": "cardiac-response",
   "metadata": {},
   "source": [
    "# Processing LMT Data for the Badura Lab in Jupyter Notebooks\n",
    "\n",
    "Author: @AmyHassett (amyrhasset@gmail.com for problems/ queries)\n",
    "\n",
    "**Steps**:\n",
    "1. Set up the environment"
   ]
  },
  {
   "cell_type": "markdown",
   "id": "novel-europe",
   "metadata": {},
   "source": [
    "## Step 1: Perform the imports:"
   ]
  },
  {
   "cell_type": "code",
   "execution_count": 1,
   "id": "instant-hotel",
   "metadata": {},
   "outputs": [],
   "source": [
    "import sys\n",
    "sys.path.insert(1, \"../\")\n",
    "\n",
    "\n",
    "import pandas as pd\n",
    "import numpy as np\n",
    "\n",
    "import sqlite3\n",
    "from ExtractEventDataWorking import *\n"
   ]
  },
  {
   "cell_type": "markdown",
   "id": "danish-truck",
   "metadata": {},
   "source": [
    "## Step 2: Set up variables:"
   ]
  },
  {
   "cell_type": "code",
   "execution_count": 2,
   "id": "leading-tanzania",
   "metadata": {},
   "outputs": [],
   "source": [
    "# Change this to your SQL file location:\n",
    "db = r'C:\\Users\\amyrh\\Documents\\AA_Education\\Neuroscience_MSc\\MATLAB_Processing\\Python\\Step 2.1 Extracting Event Data from SQLite\\test_mouse.sqlite'\n",
    "\n",
    "# Change this to the type of experiment being analysised (options: standard/wheel/object/mouse)\n",
    "day_type = \"mouse\"\n",
    "\n",
    "# Each SQL file should contain mice of maximally two genotypes (to be considered in analysis) - put these names here\n",
    "genotypes = ['L7_TSC1_WT_SH', 'L7_TSC1_KO_SH']\n",
    "\n",
    "# Name of batch\n",
    "batchName = 'test_python'\n",
    "\n",
    "# Save Location:\n",
    "saveLocation = r\"C:\\Users\\amyrh\\Documents\\AA_Education\\Neuroscience_MSc\\MATLAB_Processing\\Python\\Step 2.1 Extracting Event Data from SQLite\"\n"
   ]
  },
  {
   "cell_type": "markdown",
   "id": "abstract-insulin",
   "metadata": {},
   "source": [
    "## Step 3: Process the database:"
   ]
  },
  {
   "cell_type": "code",
   "execution_count": 3,
   "id": "thrown-flashing",
   "metadata": {},
   "outputs": [
    {
     "name": "stdout",
     "output_type": "stream",
     "text": [
      "      NAME  STARTFRAME  ENDFRAME  IDANIMALA  IDANIMALB  IDANIMALC  IDANIMALD\n",
      "0   Group4        4889      4889        4.0        3.0        2.0        1.0\n",
      "1   Group4       11867     11871        4.0        3.0        2.0        1.0\n",
      "2   Group4       11930     11935        4.0        3.0        2.0        1.0\n",
      "3   Group4       11938     11940        4.0        3.0        2.0        1.0\n",
      "4   Group4       11942     11951        4.0        3.0        2.0        1.0\n",
      "..     ...         ...       ...        ...        ...        ...        ...\n",
      "89  Group4      271065    271065        4.0        3.0        2.0        1.0\n",
      "90  Group4      271102    271106        4.0        3.0        2.0        1.0\n",
      "91  Group4      274411    274427        4.0        3.0        2.0        1.0\n",
      "92  Group4      298472    300977        4.0        3.0        2.0        1.0\n",
      "93  Group4      300979    302000        4.0        3.0        2.0        1.0\n",
      "\n",
      "[481861 rows x 7 columns]\n"
     ]
    }
   ],
   "source": [
    "# This processes the SQL and creates a df\n",
    "\n",
    "df = processSQL(db, day_type)\n",
    "print(df)\n",
    "\n",
    "# This pulls the data into pkl files based on genotype\n",
    "Data = animalData (db, df, day_type)\n",
    "SeparateGenotype(Data, genotypes, batchName, saveLocation)\n"
   ]
  },
  {
   "cell_type": "markdown",
   "id": "personal-pound",
   "metadata": {},
   "source": [
    "## Step 4 (If analysing \"Novel Mouse\"): Extract data relating to interaction with novel mouse:"
   ]
  },
  {
   "cell_type": "code",
   "execution_count": 5,
   "id": "warming-values",
   "metadata": {},
   "outputs": [],
   "source": [
    "# ID Number of novel mouse (can be found in the SQLite file)\n",
    "novMouseID = 3 \n",
    "\n",
    "# Full path to the pickle files created in the previous code\n",
    "picklePath_KO = r'C:\\Users\\amyrh\\Documents\\AA_Education\\Neuroscience_MSc\\MATLAB_Processing\\Python\\Step 2.1 Extracting Event Data from SQLite\\test_pythonL7_TSC1_KO_SH.pkl'\n",
    "picklePath_WT = r'C:\\Users\\amyrh\\Documents\\AA_Education\\Neuroscience_MSc\\MATLAB_Processing\\Python\\Step 2.1 Extracting Event Data from SQLite\\test_pythonL7_TSC1_WT_SH.pkl'\n",
    "\n",
    "# run this code to compute the novel mouse behaviours\n",
    "NovelMouseBehaviours(picklePath_KO, novMouseID, saveLocation, 'test_mouse_KO')\n",
    "NovelMouseBehaviours(picklePath_WT, novMouseID, saveLocation, 'test_mouse_WT')"
   ]
  },
  {
   "cell_type": "code",
   "execution_count": null,
   "id": "freelance-quick",
   "metadata": {},
   "outputs": [],
   "source": []
  }
 ],
 "metadata": {
  "kernelspec": {
   "display_name": "Python 3",
   "language": "python",
   "name": "python3"
  },
  "language_info": {
   "codemirror_mode": {
    "name": "ipython",
    "version": 3
   },
   "file_extension": ".py",
   "mimetype": "text/x-python",
   "name": "python",
   "nbconvert_exporter": "python",
   "pygments_lexer": "ipython3",
   "version": "3.7.9"
  }
 },
 "nbformat": 4,
 "nbformat_minor": 5
}
