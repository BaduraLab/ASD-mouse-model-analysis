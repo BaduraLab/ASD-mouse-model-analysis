{
 "cells": [
  {
   "cell_type": "markdown",
   "metadata": {},
   "source": [
    "# Set Genotype\n",
    "\n",
    "This code lets you set the genotype of each animal in your databases.\n"
   ]
  },
  {
   "cell_type": "code",
   "execution_count": 1,
   "metadata": {},
   "outputs": [
    {
     "ename": "TypeError",
     "evalue": "'NoneType' object is not iterable",
     "output_type": "error",
     "traceback": [
      "\u001b[1;31m---------------------------------------------------------------------------\u001b[0m",
      "\u001b[1;31mTypeError\u001b[0m                                 Traceback (most recent call last)",
      "\u001b[1;32m<ipython-input-1-e3ace17c73ad>\u001b[0m in \u001b[0;36m<module>\u001b[1;34m\u001b[0m\n\u001b[0;32m     21\u001b[0m \u001b[0mfiles\u001b[0m \u001b[1;33m=\u001b[0m \u001b[0mgetFilesToProcess\u001b[0m\u001b[1;33m(\u001b[0m\u001b[1;33m)\u001b[0m\u001b[1;33m\u001b[0m\u001b[1;33m\u001b[0m\u001b[0m\n\u001b[0;32m     22\u001b[0m \u001b[1;33m\u001b[0m\u001b[0m\n\u001b[1;32m---> 23\u001b[1;33m \u001b[1;32mfor\u001b[0m \u001b[0mfile\u001b[0m \u001b[1;32min\u001b[0m \u001b[0mfiles\u001b[0m\u001b[1;33m:\u001b[0m\u001b[1;33m\u001b[0m\u001b[1;33m\u001b[0m\u001b[0m\n\u001b[0m\u001b[0;32m     24\u001b[0m \u001b[1;33m\u001b[0m\u001b[0m\n\u001b[0;32m     25\u001b[0m     \u001b[0mprint\u001b[0m\u001b[1;33m(\u001b[0m\u001b[1;34m\"---------------\"\u001b[0m\u001b[1;33m)\u001b[0m\u001b[1;33m\u001b[0m\u001b[1;33m\u001b[0m\u001b[0m\n",
      "\u001b[1;31mTypeError\u001b[0m: 'NoneType' object is not iterable"
     ]
    }
   ],
   "source": [
    "# Set Genotype\n",
    "\n",
    "import sys\n",
    "sys.path.insert(1, \"../\")\n",
    "\n",
    "import sqlite3\n",
    "from lmtanalysis.Animal import *\n",
    "import numpy as np\n",
    "import matplotlib.pyplot as plt\n",
    "from lmtanalysis.Event import *\n",
    "from lmtanalysis.Measure import *\n",
    "import colorsys\n",
    "from collections import Counter\n",
    "import seaborn as sns\n",
    "\n",
    "from tkinter.filedialog import askopenfilename\n",
    "from lmtanalysis.Util import getMinTMaxTAndFileNameInput\n",
    "from lmtanalysis.EventTimeLineCache import EventTimeLineCached\n",
    "from lmtanalysis.FileUtil import getFilesToProcess\n",
    "\n",
    "files = getFilesToProcess()\n",
    "\n",
    "for file in files:\n",
    "    \n",
    "    print(\"---------------\")\n",
    "    print(\"Current file: \" , file )\n",
    "    \n",
    "    connection = sqlite3.connect( file )\n",
    "    \n",
    "    pool = AnimalPool( )\n",
    "    pool.loadAnimals( connection )\n",
    "    \n",
    "    for animal in pool.getAnimalList():\n",
    "        print( \"****\")\n",
    "        \n",
    "        genotype = input( \"Type new genotype for RFID \"+ str(animal.RFID)+ \" Current Genotype: \" + str(animal.genotype) + \" ([Enter] to keep existing one):\")\n",
    "        genotype = genotype.strip()\n",
    "        if len(genotype) > 0:\n",
    "            print(\"setting \", genotype , \" to \" , animal.RFID )\n",
    "            animal.setGenotype( genotype )\n",
    "        else:\n",
    "            print( \"keeping genotype\", animal.genotype )\n",
    "        \n",
    "    print(\"Genotype saved in database.\")\n",
    "        \n",
    "        \n",
    "    \n",
    "    \n"
   ]
  },
  {
   "cell_type": "code",
   "execution_count": null,
   "metadata": {
    "collapsed": true
   },
   "outputs": [],
   "source": []
  },
  {
   "cell_type": "code",
   "execution_count": null,
   "metadata": {
    "collapsed": true
   },
   "outputs": [],
   "source": []
  }
 ],
 "metadata": {
  "kernelspec": {
   "display_name": "Python 3",
   "language": "python",
   "name": "python3"
  },
  "language_info": {
   "codemirror_mode": {
    "name": "ipython",
    "version": 3
   },
   "file_extension": ".py",
   "mimetype": "text/x-python",
   "name": "python",
   "nbconvert_exporter": "python",
   "pygments_lexer": "ipython3",
   "version": "3.7.4"
  }
 },
 "nbformat": 4,
 "nbformat_minor": 2
}
